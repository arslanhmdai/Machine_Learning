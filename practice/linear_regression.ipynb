{
 "cells": [
  {
   "cell_type": "markdown",
   "id": "f34f55f3-63a1-4e6d-8d08-fa34910c0120",
   "metadata": {},
   "source": [
    "## 📂 Machine Learning Project 01\n",
    "### Breakdown include following steps\n",
    "* Downloading the Dataset from Kaggle\n",
    "* Plot 100 Data Samples\n",
    "* Dataset Plot must be the Linear\n",
    "* Hypothesis Formulation\n",
    "* Cost Funciton\n",
    "#### Installing Useful Packages"
   ]
  },
  {
   "cell_type": "code",
   "execution_count": 21,
   "id": "200193cf-fc0c-4a2d-9e1d-bb688bfdc9e6",
   "metadata": {},
   "outputs": [
    {
     "name": "stdout",
     "output_type": "stream",
     "text": [
      "Requirement already satisfied: kagglehub in c:\\users\\mecxlan\\anaconda3\\envs\\ulu\\lib\\site-packages (0.3.11)\n",
      "Requirement already satisfied: pandas in c:\\users\\mecxlan\\anaconda3\\envs\\ulu\\lib\\site-packages (2.2.3)\n",
      "Requirement already satisfied: matplotlib in c:\\users\\mecxlan\\anaconda3\\envs\\ulu\\lib\\site-packages (3.10.1)\n",
      "Requirement already satisfied: scikit-learn in c:\\users\\mecxlan\\anaconda3\\envs\\ulu\\lib\\site-packages (1.6.1)\n",
      "Requirement already satisfied: packaging in c:\\users\\mecxlan\\anaconda3\\envs\\ulu\\lib\\site-packages (from kagglehub) (25.0)\n",
      "Requirement already satisfied: pyyaml in c:\\users\\mecxlan\\anaconda3\\envs\\ulu\\lib\\site-packages (from kagglehub) (6.0.2)\n",
      "Requirement already satisfied: requests in c:\\users\\mecxlan\\anaconda3\\envs\\ulu\\lib\\site-packages (from kagglehub) (2.32.3)\n",
      "Requirement already satisfied: tqdm in c:\\users\\mecxlan\\anaconda3\\envs\\ulu\\lib\\site-packages (from kagglehub) (4.67.1)\n",
      "Requirement already satisfied: numpy>=1.22.4 in c:\\users\\mecxlan\\anaconda3\\envs\\ulu\\lib\\site-packages (from pandas) (2.2.5)\n",
      "Requirement already satisfied: python-dateutil>=2.8.2 in c:\\users\\mecxlan\\anaconda3\\envs\\ulu\\lib\\site-packages (from pandas) (2.9.0.post0)\n",
      "Requirement already satisfied: pytz>=2020.1 in c:\\users\\mecxlan\\anaconda3\\envs\\ulu\\lib\\site-packages (from pandas) (2025.2)\n",
      "Requirement already satisfied: tzdata>=2022.7 in c:\\users\\mecxlan\\anaconda3\\envs\\ulu\\lib\\site-packages (from pandas) (2025.2)\n",
      "Requirement already satisfied: contourpy>=1.0.1 in c:\\users\\mecxlan\\anaconda3\\envs\\ulu\\lib\\site-packages (from matplotlib) (1.3.2)\n",
      "Requirement already satisfied: cycler>=0.10 in c:\\users\\mecxlan\\anaconda3\\envs\\ulu\\lib\\site-packages (from matplotlib) (0.12.1)\n",
      "Requirement already satisfied: fonttools>=4.22.0 in c:\\users\\mecxlan\\anaconda3\\envs\\ulu\\lib\\site-packages (from matplotlib) (4.57.0)\n",
      "Requirement already satisfied: kiwisolver>=1.3.1 in c:\\users\\mecxlan\\anaconda3\\envs\\ulu\\lib\\site-packages (from matplotlib) (1.4.8)\n",
      "Requirement already satisfied: pillow>=8 in c:\\users\\mecxlan\\anaconda3\\envs\\ulu\\lib\\site-packages (from matplotlib) (11.2.1)\n",
      "Requirement already satisfied: pyparsing>=2.3.1 in c:\\users\\mecxlan\\anaconda3\\envs\\ulu\\lib\\site-packages (from matplotlib) (3.2.3)\n",
      "Requirement already satisfied: scipy>=1.6.0 in c:\\users\\mecxlan\\anaconda3\\envs\\ulu\\lib\\site-packages (from scikit-learn) (1.15.2)\n",
      "Requirement already satisfied: joblib>=1.2.0 in c:\\users\\mecxlan\\anaconda3\\envs\\ulu\\lib\\site-packages (from scikit-learn) (1.4.2)\n",
      "Requirement already satisfied: threadpoolctl>=3.1.0 in c:\\users\\mecxlan\\anaconda3\\envs\\ulu\\lib\\site-packages (from scikit-learn) (3.6.0)\n",
      "Requirement already satisfied: six>=1.5 in c:\\users\\mecxlan\\anaconda3\\envs\\ulu\\lib\\site-packages (from python-dateutil>=2.8.2->pandas) (1.17.0)\n",
      "Requirement already satisfied: charset-normalizer<4,>=2 in c:\\users\\mecxlan\\anaconda3\\envs\\ulu\\lib\\site-packages (from requests->kagglehub) (3.4.1)\n",
      "Requirement already satisfied: idna<4,>=2.5 in c:\\users\\mecxlan\\anaconda3\\envs\\ulu\\lib\\site-packages (from requests->kagglehub) (3.10)\n",
      "Requirement already satisfied: urllib3<3,>=1.21.1 in c:\\users\\mecxlan\\anaconda3\\envs\\ulu\\lib\\site-packages (from requests->kagglehub) (2.4.0)\n",
      "Requirement already satisfied: certifi>=2017.4.17 in c:\\users\\mecxlan\\anaconda3\\envs\\ulu\\lib\\site-packages (from requests->kagglehub) (2025.1.31)\n",
      "Requirement already satisfied: colorama in c:\\users\\mecxlan\\anaconda3\\envs\\ulu\\lib\\site-packages (from tqdm->kagglehub) (0.4.6)\n"
     ]
    }
   ],
   "source": [
    "# venv --name: ulu, python==3.10, platform: jupter lab\n",
    "!pip install kagglehub pandas matplotlib scikit-learn"
   ]
  },
  {
   "cell_type": "code",
   "execution_count": 22,
   "id": "4785c81b-1b8b-41de-ab66-a66dc5f8d6ce",
   "metadata": {},
   "outputs": [
    {
     "name": "stdout",
     "output_type": "stream",
     "text": [
      "Path to dataset files: C:\\Users\\mecxlan\\.cache\\kagglehub\\datasets\\prokshitha\\home-value-insights\\versions\\1\n"
     ]
    }
   ],
   "source": [
    "import kagglehub\n",
    "\n",
    "# Download latest version\n",
    "path = kagglehub.dataset_download(\"prokshitha/home-value-insights\")\n",
    "\n",
    "print(\"Path to dataset files:\", path)"
   ]
  },
  {
   "cell_type": "code",
   "execution_count": 23,
   "id": "4049ec32-c70e-481b-818b-b5d8fdf1e5dd",
   "metadata": {},
   "outputs": [
    {
     "data": {
      "text/plain": [
       "(1000, 8)"
      ]
     },
     "execution_count": 23,
     "metadata": {},
     "output_type": "execute_result"
    }
   ],
   "source": [
    "import pandas as pd\n",
    "source_path = path + \"\\\\\" + \"house_price_regression_dataset.csv\" # concatenation\n",
    "df = pd.read_csv(source_path)\n",
    "df.shape"
   ]
  },
  {
   "cell_type": "code",
   "execution_count": 24,
   "id": "4946b2b0-5730-49bb-8a96-59c6515132a7",
   "metadata": {},
   "outputs": [
    {
     "name": "stdout",
     "output_type": "stream",
     "text": [
      "Square_Footage            int64\n",
      "Num_Bedrooms              int64\n",
      "Num_Bathrooms             int64\n",
      "Year_Built                int64\n",
      "Lot_Size                float64\n",
      "Garage_Size               int64\n",
      "Neighborhood_Quality      int64\n",
      "House_Price             float64\n",
      "dtype: object\n"
     ]
    }
   ],
   "source": [
    "print(df.dtypes)"
   ]
  },
  {
   "cell_type": "code",
   "execution_count": 25,
   "id": "4603cfd6-a6c7-4b98-b31d-3b9633a381d6",
   "metadata": {},
   "outputs": [
    {
     "name": "stdout",
     "output_type": "stream",
     "text": [
      "    Square_Footage   House_Price\n",
      "0             1360  2.623829e+05\n",
      "1             4272  9.852609e+05\n",
      "2             3592  7.779774e+05\n",
      "3              966  2.296989e+05\n",
      "4             4926  1.041741e+06\n",
      "..             ...           ...\n",
      "95            1528  3.231187e+05\n",
      "96            1002  3.071017e+05\n",
      "97            4993  1.020325e+06\n",
      "98            1370  3.047305e+05\n",
      "99            4988  1.026397e+06\n",
      "\n",
      "[100 rows x 2 columns]\n"
     ]
    }
   ],
   "source": [
    "data_set = df[[\"Square_Footage\", \"House_Price\"]].head(100)\n",
    "print(data_set)"
   ]
  },
  {
   "cell_type": "code",
   "execution_count": 26,
   "id": "57c39abe-f94c-4878-b856-d64fa40cbf15",
   "metadata": {},
   "outputs": [
    {
     "data": {
      "image/png": "[encoded data removed]",
      "text/plain": [
       "<Figure size 1200x600 with 1 Axes>"
      ]
     },
     "metadata": {},
     "output_type": "display_data"
    }
   ],
   "source": [
    "import matplotlib.pyplot as plt\n",
    "plt.figure(figsize=(12,6))\n",
    "plt.scatter(data_set[\"Square_Footage\"], data_set[\"House_Price\"])\n",
    "plt.title(\"Machine Learning ULU 01\")\n",
    "plt.xlabel(\"Size\")\n",
    "plt.ylabel(\"Price\")\n",
    "plt.grid(True)\n",
    "\n",
    "plt.show()"
   ]
  },
  {
   "cell_type": "code",
   "execution_count": 27,
   "id": "2d133efb-c996-4a88-b82f-dd9185aed6a6",
   "metadata": {},
   "outputs": [
    {
     "data": {
      "text/plain": [
       "Square_Footage      int64\n",
       "House_Price       float64\n",
       "dtype: object"
      ]
     },
     "execution_count": 27,
     "metadata": {},
     "output_type": "execute_result"
    }
   ],
   "source": [
    "data_set.dtypes"
   ]
  },
  {
   "cell_type": "code",
   "execution_count": 28,
   "id": "a94c34b3-ce15-4bad-bfcf-c6cd22a822ff",
   "metadata": {},
   "outputs": [
    {
     "data": {
      "text/plain": [
       "Square_Footage    0\n",
       "House_Price       0\n",
       "dtype: int64"
      ]
     },
     "execution_count": 28,
     "metadata": {},
     "output_type": "execute_result"
    }
   ],
   "source": [
    "# Checking for the missing values\n",
    "data_set.isnull().sum()"
   ]
  },
  {
   "cell_type": "code",
   "execution_count": 29,
   "id": "40d34d45-179b-4214-beaa-7cc14d247dea",
   "metadata": {},
   "outputs": [
    {
     "name": "stdout",
     "output_type": "stream",
     "text": [
      "Cleaned Dataset Shape: (100, 2)\n"
     ]
    }
   ],
   "source": [
    "# Romoving Duplicate Rows\n",
    "ds_cleaned = data_set.drop_duplicates()\n",
    "print(\"Cleaned Dataset Shape:\", ds_cleaned.shape)"
   ]
  },
  {
   "cell_type": "code",
   "execution_count": 17,
   "id": "73abbe5d-918e-4940-95f5-d61101664ecb",
   "metadata": {},
   "outputs": [],
   "source": [
    "import pandas as pd\n",
    "import matplotlib.pyplot as plt\n",
    "from sklearn.model_selection import train_test_split\n",
    "from sklearn.linear_model import LinearRegression"
   ]
  },
  {
   "cell_type": "code",
   "execution_count": 33,
   "id": "0de5f849-00f9-4118-bb78-a1fe721943ad",
   "metadata": {},
   "outputs": [],
   "source": [
    "X = ds_cleaned[[\"Square_Footage\"]]\n",
    "Y = ds_cleaned[\"House_Price\"]"
   ]
  },
  {
   "cell_type": "code",
   "execution_count": 34,
   "id": "2f092793-4fb9-4d6f-bb2b-04df983cc2ff",
   "metadata": {},
   "outputs": [],
   "source": [
    "X_train, X_test, Y_train, Y_test = train_test_split(X, Y, test_size = 0.3, random_state=42)"
   ]
  },
  {
   "cell_type": "code",
   "execution_count": 35,
   "id": "eec7555c-9457-478a-8d89-0ae81ae83c41",
   "metadata": {},
   "outputs": [],
   "source": [
    "model = LinearRegression()\n",
    "model.fit(X_train, Y_train)\n",
    "\n",
    "Y_pred = model.predict(X_test)"
   ]
  },
  {
   "cell_type": "code",
   "execution_count": 36,
   "id": "6a75d5c5-d27c-4678-ac7d-faf7a888be0f",
   "metadata": {},
   "outputs": [
    {
     "data": {
      "text/plain": [
       "Text(0, 0.5, 'Price')"
      ]
     },
     "execution_count": 36,
     "metadata": {},
     "output_type": "execute_result"
    },
    {
     "data": {
      "image/png": "[encoded data removed]",
      "text/plain": [
       "<Figure size 640x480 with 1 Axes>"
      ]
     },
     "metadata": {},
     "output_type": "display_data"
    }
   ],
   "source": [
    "plt.scatter(X_test, Y_test, color = 'blue', label = \"Actual Data\")\n",
    "plt.plot(X_test, Y_pred, color = \"red\", linewidth = 2 , label = \"Regression Line\")\n",
    "plt.xlabel(\"Size\")\n",
    "plt.ylabel(\"Price\")\n",
    "plt.show()"
   ]
  },
  {
   "cell_type": "code",
   "execution_count": 38,
   "id": "0a18997d-b345-4078-bfa7-c515131b0140",
   "metadata": {},
   "outputs": [
    {
     "name": "stdout",
     "output_type": "stream",
     "text": [
      "Intercept: 54119.11406731291\n",
      "Slope: 200.10369050789396\n"
     ]
    }
   ],
   "source": [
    "print(Model Coefficient)\n",
    "print(f\"Intercept: {model.intercept_}\")\n",
    "print(f\"Slope: {model.coef_[0]}\")\n"
   ]
  },
  {
   "cell_type": "code",
   "execution_count": 41,
   "id": "32bf3dcf-db3b-47c2-8a0d-06c5eae4a690",
   "metadata": {},
   "outputs": [
    {
     "name": "stdout",
     "output_type": "stream",
     "text": [
      "\n",
      "Predicted Prices for the Given Sizes:\n",
      "Square_Footage: 25, Predicted House_Price: 59121.71\n",
      "Square_Footage: 30, Predicted House_Price: 60122.22\n",
      "Square_Footage: 40, Predicted House_Price: 62123.26\n",
      "Square_Footage: 45, Predicted House_Price: 63123.78\n"
     ]
    }
   ],
   "source": [
    "new_sizes = pd.DataFrame({\"Square_Footage\": [25, 30, 40, 45]})\n",
    "new_prices = model.predict(new_sizes)\n",
    "\n",
    "print(\"\\nPredicted Prices for the Given Sizes:\")\n",
    "for size, price in zip(new_sizes[\"Square_Footage\"], new_prices):\n",
    "    print(f\"Square_Footage: {size}, Predicted House_Price: {price:.2f}\")\n"
   ]
  }
 ],
 "metadata": {
  "kernelspec": {
   "display_name": "Python 3 (ipykernel)",
   "language": "python",
   "name": "python3"
  },
  "language_info": {
   "codemirror_mode": {
    "name": "ipython",
    "version": 3
   },
   "file_extension": ".py",
   "mimetype": "text/x-python",
   "name": "python",
   "nbconvert_exporter": "python",
   "pygments_lexer": "ipython3",
   "version": "3.10.16"
  }
 },
 "nbformat": 4,
 "nbformat_minor": 5
}
